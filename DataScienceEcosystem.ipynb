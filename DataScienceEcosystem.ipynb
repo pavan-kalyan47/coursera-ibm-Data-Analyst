{
 "cells": [
  {
   "cell_type": "markdown",
   "id": "f0ddf626-e515-48c1-8f72-80502b8b9dad",
   "metadata": {
    "tags": []
   },
   "source": [
    "# Data Science Tools and Ecosystem"
   ]
  },
  {
   "cell_type": "markdown",
   "id": "c10f7bf9-0146-449d-b915-db766650e8c4",
   "metadata": {},
   "source": [
    "In this notebook, Data Science Tools and Ecosystem are summarized"
   ]
  },
  {
   "cell_type": "markdown",
   "id": "797d9daf-3fa4-4a60-b68f-2e50e97fb25f",
   "metadata": {},
   "source": [
    "Some of the popular languages that Data Scientists use are:\n",
    "\n",
    "1. Python\n",
    "2. R\n",
    "3. Java"
   ]
  },
  {
   "cell_type": "markdown",
   "id": "91cdd84a-0b69-4800-b1cc-99a8860e76d2",
   "metadata": {},
   "source": [
    "**Objectives:**\n",
    "- List popular languages for Data Science.\n",
    "   - Python\n",
    "   - R\n",
    "   - Java\n",
    "   - SQL\n",
    "   - Java Script\n",
    "  "
   ]
  },
  {
   "cell_type": "markdown",
   "id": "6a26f361-144c-4274-a3a3-8da39a61f394",
   "metadata": {},
   "source": [
    "Some of the commonly used libraries used by Data Scientists include:\n",
    "1. TensorFlow.\n",
    "2. NumPy.\n",
    "3. SciPy.\n",
    "4. Pandas.\n",
    "5. Matplotlib."
   ]
  },
  {
   "cell_type": "markdown",
   "id": "a95f26bd-9122-40e5-a52e-cef47982e1e0",
   "metadata": {},
   "source": [
    "|Data Science Tools|\n",
    "|----|\n",
    "|RStudio|\n",
    "|Apache Spark|\n",
    "|Apache Hadoop|\n"
   ]
  },
  {
   "cell_type": "markdown",
   "id": "52bbdc54-8d02-4211-ba1d-ebfbf2cdfdda",
   "metadata": {},
   "source": [
    "### Below are a few examples of evaluating arithmetic expressions in Python.\n"
   ]
  },
  {
   "cell_type": "code",
   "execution_count": 4,
   "id": "d578adb4-5f5d-49c9-8049-5c03b693d77b",
   "metadata": {},
   "outputs": [
    {
     "data": {
      "text/plain": [
       "17"
      ]
     },
     "execution_count": 4,
     "metadata": {},
     "output_type": "execute_result"
    }
   ],
   "source": [
    "#This a simple arithmetic expression to mutiply then add integers\n",
    "\n",
    "(3*4)+5"
   ]
  },
  {
   "cell_type": "code",
   "execution_count": 17,
   "id": "63393048-f05f-4154-8b4c-01ce7a033d9d",
   "metadata": {},
   "outputs": [
    {
     "name": "stdin",
     "output_type": "stream",
     "text": [
      "Enter Minutes :-->  200\n"
     ]
    },
    {
     "name": "stdout",
     "output_type": "stream",
     "text": [
      "Hour : Minute :-->  3  :  20\n"
     ]
    }
   ],
   "source": [
    "#This will convert 200 minutes to hours by diving by 60\n",
    "min = int(input(\"Enter Minutes :--> \"))\n",
    "print(\"Hour : Minute :--> \", int(min/60), \" : \", min % 60)\n"
   ]
  },
  {
   "cell_type": "markdown",
   "id": "f769f88d-6b13-4e56-8743-cf2547575723",
   "metadata": {},
   "source": [
    "## Author\n",
    "   Bodugu Pavan Kalyan Reddy"
   ]
  }
 ],
 "metadata": {
  "kernelspec": {
   "display_name": "Python",
   "language": "python",
   "name": "conda-env-python-py"
  },
  "language_info": {
   "codemirror_mode": {
    "name": "ipython",
    "version": 3
   },
   "file_extension": ".py",
   "mimetype": "text/x-python",
   "name": "python",
   "nbconvert_exporter": "python",
   "pygments_lexer": "ipython3",
   "version": "3.7.12"
  }
 },
 "nbformat": 4,
 "nbformat_minor": 5
}
